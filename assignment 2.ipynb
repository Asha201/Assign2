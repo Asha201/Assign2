{
 "cells": [
  {
   "cell_type": "raw",
   "id": "94355f24",
   "metadata": {},
   "source": [
    "#Q 1.What are the two values of the Boolean data type? How do you write them?"
   ]
  },
  {
   "cell_type": "raw",
   "id": "ac0acb10",
   "metadata": {},
   "source": [
    "Ans.The two boolean data types are True or False. \n",
    "We can repesent true as 1 and false as 0."
   ]
  },
  {
   "cell_type": "code",
   "execution_count": null,
   "id": "7888bc38",
   "metadata": {},
   "outputs": [],
   "source": [
    "#Q 2. What are the three different types of Boolean operators?"
   ]
  },
  {
   "cell_type": "raw",
   "id": "78bb3994",
   "metadata": {},
   "source": [
    "Ans. The three different types of Boolean operators AND operator, OR operator and NOT operator.\n",
    " "
   ]
  },
  {
   "cell_type": "raw",
   "id": "bb57a2ea",
   "metadata": {},
   "source": [
    "#Q 3. Make a list of each Boolean operator's truth tables (i.e. every possible combination of Boolean values for the operator and what it evaluate )."
   ]
  },
  {
   "cell_type": "raw",
   "id": "286faa2e",
   "metadata": {},
   "source": [
    "The truth table for the ‘and’ operator. Even if one value is false, then the whole expression is False.\n",
    "Ans           Expression                  output\n",
    "            true and true                true\n",
    "            true and false               false\n",
    "            false and true               false\n",
    "            false and false              false\n",
    "            \n",
    "Ex:(5 > 3) and (7 == 7)\n",
    "True\n",
    "(7 > 3) and (9 != 8)\n",
    "True\n",
    "(5 > 4) and (3 == 5)\n",
    "False\n",
    "\n",
    "            \n",
    "The truth table for the ‘or operator. Even if one value is true, then the whole expression is True.\n",
    "            Expression                  output\n",
    "            true or true                true\n",
    "            true or false               true\n",
    "            false or true               true\n",
    "            false or false              false\n",
    "            \n",
    "Ex:(5 > 3) or (7 == 7)\n",
    "True\n",
    "(5 > 4) or (3 == 5)\n",
    "True\n",
    "(5 < 4) and (3 == 5)\n",
    "False\n",
    "            \n",
    "            \n",
    "The ‘not’ operator is the logical Boolean Operator, which compliments the variable’s current Boolean value. \n",
    "             Expression                  output\n",
    "             true                         false\n",
    "             false                        true\n",
    "Ex:  not (5 > 4)           \n",
    " False"
   ]
  },
  {
   "cell_type": "raw",
   "id": "6d101821",
   "metadata": {},
   "source": [
    "4. What are the values of the following expressions?\n",
    "(5 > 4) and (3 == 5)\n",
    "not (5 > 4)\n",
    "(5 > 4) or (3 == 5)\n",
    "not ((5 > 4) or (3 == 5))\n",
    "(True and True) and (True == False)\n",
    "(not False) or (not True)\n"
   ]
  },
  {
   "cell_type": "code",
   "execution_count": 3,
   "id": "6d598ebb",
   "metadata": {},
   "outputs": [
    {
     "data": {
      "text/plain": [
       "False"
      ]
     },
     "execution_count": 3,
     "metadata": {},
     "output_type": "execute_result"
    }
   ],
   "source": [
    "(5 > 4) and (3 == 5)"
   ]
  },
  {
   "cell_type": "code",
   "execution_count": 4,
   "id": "13b4a9e6",
   "metadata": {},
   "outputs": [
    {
     "data": {
      "text/plain": [
       "False"
      ]
     },
     "execution_count": 4,
     "metadata": {},
     "output_type": "execute_result"
    }
   ],
   "source": [
    "not (5 > 4)"
   ]
  },
  {
   "cell_type": "code",
   "execution_count": 5,
   "id": "57e95245",
   "metadata": {},
   "outputs": [
    {
     "data": {
      "text/plain": [
       "True"
      ]
     },
     "execution_count": 5,
     "metadata": {},
     "output_type": "execute_result"
    }
   ],
   "source": [
    "(5 > 4) or (3 == 5)"
   ]
  },
  {
   "cell_type": "code",
   "execution_count": 6,
   "id": "93514261",
   "metadata": {},
   "outputs": [
    {
     "data": {
      "text/plain": [
       "False"
      ]
     },
     "execution_count": 6,
     "metadata": {},
     "output_type": "execute_result"
    }
   ],
   "source": [
    "not ((5 > 4) or (3 == 5))"
   ]
  },
  {
   "cell_type": "code",
   "execution_count": 7,
   "id": "e94ffba2",
   "metadata": {},
   "outputs": [
    {
     "data": {
      "text/plain": [
       "False"
      ]
     },
     "execution_count": 7,
     "metadata": {},
     "output_type": "execute_result"
    }
   ],
   "source": [
    "(True and True) and (True == False)"
   ]
  },
  {
   "cell_type": "code",
   "execution_count": 8,
   "id": "42d3fef3",
   "metadata": {},
   "outputs": [
    {
     "data": {
      "text/plain": [
       "True"
      ]
     },
     "execution_count": 8,
     "metadata": {},
     "output_type": "execute_result"
    }
   ],
   "source": [
    "(not False) or (not True)"
   ]
  },
  {
   "cell_type": "code",
   "execution_count": null,
   "id": "c1e96db5",
   "metadata": {},
   "outputs": [],
   "source": [
    "# Q 5. What are the six comparison operators?"
   ]
  },
  {
   "cell_type": "raw",
   "id": "c2fa98ce",
   "metadata": {},
   "source": [
    "Ans. Six comparison operators are less than(<), greater than(>), less than or equal to(<=), greater than or equal to(>=), equal to(==), and not equal to(!=).  "
   ]
  },
  {
   "cell_type": "raw",
   "id": "0f4f73b3",
   "metadata": {},
   "source": [
    "#Q 6. How do you tell the difference between the equal to and assignment operators?Describe a condition and when you would use one."
   ]
  },
  {
   "cell_type": "raw",
   "id": "2136bb28",
   "metadata": {},
   "source": [
    "Ans.A single equal mark is used to assign a value to a variable, whereas two consecutive equal marks is used to check whether 2 expressions give the same value .\n",
    "\n",
    "= is an assignment operator\n",
    "\n",
    "== is an equality operator\n",
    "\n",
    "consider variable\n",
    "\n",
    "x=10\n",
    "y=20\n",
    "z=20 here we are assigning the value to variable\n",
    "\n",
    "(x==y) is False because assigned different values to x and y.\n",
    "(y==z) is True because we assign equal values to y and z.\n",
    "\n",
    "\n"
   ]
  },
  {
   "cell_type": "code",
   "execution_count": null,
   "id": "c4880154",
   "metadata": {},
   "outputs": [],
   "source": [
    "7. Identify the three blocks in this code:\n",
    "spam = 0\n",
    "if spam == 10:\n",
    "print('eggs')\n",
    "if spam > 5:\n",
    "print('bacon')\n",
    "else:\n",
    "print('ham')\n",
    "print('spam')\n",
    "print('spam')\n"
   ]
  },
  {
   "cell_type": "code",
   "execution_count": null,
   "id": "34cff74e",
   "metadata": {},
   "outputs": [],
   "source": [
    "Ans. Value assignment\n",
    "spam = 0\n",
    "\n",
    "First block is\n",
    "if spam == 10:\n",
    "print('eggs')\n",
    "\n",
    "Second block is\n",
    "if spam > 5:\n",
    "print('bacon')\n",
    "\n",
    "Third block is\n",
    "else:\n",
    "print('ham')\n",
    "print('spam')\n",
    "print('spam')\n"
   ]
  },
  {
   "cell_type": "raw",
   "id": "e8f15f82",
   "metadata": {},
   "source": [
    "8. Write code that prints Hello if 1 is stored in spam, prints Howdy if 2 is stored in spam, and prints Greetings! if anything else is stored in spam.\n",
    "\n"
   ]
  },
  {
   "cell_type": "code",
   "execution_count": 13,
   "id": "619eefd9",
   "metadata": {},
   "outputs": [
    {
     "name": "stdout",
     "output_type": "stream",
     "text": [
      "enter spam value 5\n",
      "Greetings!\n"
     ]
    }
   ],
   "source": [
    "spam = int(input (\"enter spam value \"))\n",
    "\n",
    "if spam == 1:\n",
    "    print(\"Hello\")\n",
    "elif spam==2:\n",
    "     print(\"Howdy\")        \n",
    "else:\n",
    "   print(\"Greetings!\")   \n",
    "    \n",
    "        "
   ]
  },
  {
   "cell_type": "markdown",
   "id": "8c4ddc23",
   "metadata": {},
   "source": [
    "#Q 9.If your programme is stuck in an endless loop, what keys you’ll press?"
   ]
  },
  {
   "cell_type": "code",
   "execution_count": null,
   "id": "9c68ae18",
   "metadata": {},
   "outputs": [],
   "source": [
    "Ans: Ctrl+C keys force to exit the loop"
   ]
  },
  {
   "cell_type": "markdown",
   "id": "4d6a79c2",
   "metadata": {},
   "source": [
    "#Q 10. How can you tell the difference between break and continue?"
   ]
  },
  {
   "cell_type": "code",
   "execution_count": null,
   "id": "b43a06ca",
   "metadata": {},
   "outputs": [],
   "source": [
    "Break statement makes the control come out of loop.\n",
    "\n",
    "Continue statement takes the control for next iteration.\n",
    "\n"
   ]
  },
  {
   "cell_type": "markdown",
   "id": "3018a11d",
   "metadata": {},
   "source": [
    "#Q 11. In a for loop, what is the difference between range(10), range(0, 10), and range(0, 10, 1)?"
   ]
  },
  {
   "cell_type": "markdown",
   "id": "99969612",
   "metadata": {},
   "source": [
    "Ans. No difference 3 loops shows same value.Range will take value for 0 to 9"
   ]
  },
  {
   "cell_type": "raw",
   "id": "4b2ac21b",
   "metadata": {},
   "source": [
    "#Q Write a short program that prints the numbers 1 to 10 using a for loop. Then write an equivalent program that prints the numbers 1 to 10 using a while loop."
   ]
  },
  {
   "cell_type": "code",
   "execution_count": 18,
   "id": "85fbdae3",
   "metadata": {},
   "outputs": [
    {
     "name": "stdout",
     "output_type": "stream",
     "text": [
      "1\n",
      "2\n",
      "3\n",
      "4\n",
      "5\n",
      "6\n",
      "7\n",
      "8\n",
      "9\n",
      "10\n"
     ]
    }
   ],
   "source": [
    "for l in range(1,11):\n",
    "    print(l)\n",
    "\n"
   ]
  },
  {
   "cell_type": "code",
   "execution_count": 9,
   "id": "7dc54e36",
   "metadata": {},
   "outputs": [
    {
     "name": "stdout",
     "output_type": "stream",
     "text": [
      "1\n",
      "2\n",
      "3\n",
      "4\n",
      "5\n",
      "6\n",
      "7\n",
      "8\n",
      "9\n",
      "10\n"
     ]
    }
   ],
   "source": [
    "a=1\n",
    "b=10\n",
    "while a<=b:\n",
    "    print(a)\n",
    "    a=a+1\n"
   ]
  },
  {
   "cell_type": "markdown",
   "id": "6600cdfb",
   "metadata": {},
   "source": [
    "#Q 13. If you had a function named bacon() inside a module named spam, how would you call it after importing spam?"
   ]
  },
  {
   "cell_type": "code",
   "execution_count": null,
   "id": "80757cdf",
   "metadata": {},
   "outputs": [],
   "source": [
    "This function can be called with spam. bacon()"
   ]
  }
 ],
 "metadata": {
  "kernelspec": {
   "display_name": "Python 3 (ipykernel)",
   "language": "python",
   "name": "python3"
  },
  "language_info": {
   "codemirror_mode": {
    "name": "ipython",
    "version": 3
   },
   "file_extension": ".py",
   "mimetype": "text/x-python",
   "name": "python",
   "nbconvert_exporter": "python",
   "pygments_lexer": "ipython3",
   "version": "3.9.12"
  }
 },
 "nbformat": 4,
 "nbformat_minor": 5
}
